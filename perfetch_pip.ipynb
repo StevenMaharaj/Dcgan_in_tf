{
 "cells": [
  {
   "cell_type": "code",
   "execution_count": 19,
   "metadata": {},
   "outputs": [],
   "source": [
    "import tensorflow as tf\n",
    "from IPython import display as ipythondisplay\n",
    "from tqdm import tqdm\n",
    "import numpy as np\n",
    "import os\n",
    "import time\n",
    "import functools\n",
    "from tensorflow.keras.utils import image_dataset_from_directory\n",
    "\n",
    "import matplotlib.pyplot as plt"
   ]
  },
  {
   "cell_type": "code",
   "execution_count": 30,
   "metadata": {},
   "outputs": [],
   "source": [
    "def make_model():\n",
    "    return tf.keras.Sequential([\n",
    "        tf.keras.layers.Rescaling(1./255),\n",
    "        tf.keras.layers.Conv2D(32, 3, activation='relu', input_shape=(28, 28, 1)),\n",
    "        tf.keras.layers.MaxPooling2D(),\n",
    "        tf.keras.layers.Flatten(),\n",
    "        tf.keras.layers.Dense(64, activation='relu'),\n",
    "        tf.keras.layers.Dense(1, activation='sigmoid')\n",
    "    ])\n",
    "model = make_model()\n",
    "# model.summary()"
   ]
  },
  {
   "cell_type": "code",
   "execution_count": 31,
   "metadata": {},
   "outputs": [],
   "source": [
    "model.compile(loss='binary_crossentropy',\n",
    "              optimizer='rmsprop',\n",
    "              metrics=['accuracy'])\n",
    "              "
   ]
  },
  {
   "cell_type": "code",
   "execution_count": 12,
   "metadata": {},
   "outputs": [
    {
     "name": "stdout",
     "output_type": "stream",
     "text": [
      "Found 119 files belonging to 2 classes.\n",
      "Using 96 files for training.\n",
      "Found 119 files belonging to 2 classes.\n",
      "Using 23 files for validation.\n"
     ]
    }
   ],
   "source": [
    "\n",
    "f = \"/mnt/c/Users/steven.maharaj/Pictures\"\n",
    "data_dir = f+\"/p1/\"\n",
    "batch_size = 32\n",
    "img_height = 128\n",
    "img_width = 128\n",
    "\n",
    "train =  tf.keras.utils.image_dataset_from_directory(\n",
    "  data_dir,\n",
    "  validation_split=0.2,\n",
    "  subset=\"training\",\n",
    "  seed=123,\n",
    "  image_size=(img_height, img_width),\n",
    "  batch_size=batch_size)\n",
    "\n",
    "\n",
    "val =  tf.keras.utils.image_dataset_from_directory(\n",
    "  data_dir,\n",
    "  validation_split=0.2,\n",
    "  subset=\"validation\",\n",
    "  seed=123,\n",
    "  image_size=(img_height, img_width),\n",
    "  batch_size=batch_size)"
   ]
  },
  {
   "cell_type": "code",
   "execution_count": 13,
   "metadata": {},
   "outputs": [
    {
     "name": "stdout",
     "output_type": "stream",
     "text": [
      "['N', 'nN']\n"
     ]
    }
   ],
   "source": [
    "class_names = train.class_names\n",
    "print(class_names)"
   ]
  },
  {
   "cell_type": "code",
   "execution_count": null,
   "metadata": {},
   "outputs": [],
   "source": [
    "\n",
    "plt.figure(figsize=(10, 10))\n",
    "for images, labels in train.take(1):\n",
    "  for i in range(9):\n",
    "    ax = plt.subplot(3, 3, i + 1)\n",
    "    plt.imshow(images[i].numpy().astype(\"uint8\"))\n",
    "    plt.title(class_names[labels[i]])\n",
    "    plt.axis(\"off\")"
   ]
  },
  {
   "cell_type": "code",
   "execution_count": 17,
   "metadata": {},
   "outputs": [
    {
     "name": "stdout",
     "output_type": "stream",
     "text": [
      "(32, 128, 128, 3)\n",
      "(32,)\n"
     ]
    }
   ],
   "source": [
    "for image_batch, labels_batch in train:\n",
    "  print(image_batch.shape)\n",
    "  print(labels_batch.shape)\n",
    "  break"
   ]
  },
  {
   "cell_type": "code",
   "execution_count": 33,
   "metadata": {},
   "outputs": [
    {
     "name": "stdout",
     "output_type": "stream",
     "text": [
      "Epoch 1/30\n"
     ]
    },
    {
     "name": "stdout",
     "output_type": "stream",
     "text": [
      "3/3 [==============================] - 1s 185ms/step - loss: 1.2137 - accuracy: 0.4688 - val_loss: 2.3548 - val_accuracy: 0.2609\n",
      "Epoch 2/30\n",
      "3/3 [==============================] - 1s 194ms/step - loss: 0.9084 - accuracy: 0.5417 - val_loss: 0.8352 - val_accuracy: 0.7391\n",
      "Epoch 3/30\n",
      "3/3 [==============================] - 1s 175ms/step - loss: 0.6522 - accuracy: 0.5729 - val_loss: 1.0100 - val_accuracy: 0.2609\n",
      "Epoch 4/30\n",
      "3/3 [==============================] - 1s 174ms/step - loss: 0.5263 - accuracy: 0.6146 - val_loss: 0.8509 - val_accuracy: 0.7391\n",
      "Epoch 5/30\n",
      "3/3 [==============================] - 1s 171ms/step - loss: 0.5653 - accuracy: 0.6458 - val_loss: 1.5788 - val_accuracy: 0.2609\n",
      "Epoch 6/30\n",
      "3/3 [==============================] - 1s 169ms/step - loss: 0.7303 - accuracy: 0.6562 - val_loss: 0.7381 - val_accuracy: 0.4348\n",
      "Epoch 7/30\n",
      "3/3 [==============================] - 1s 179ms/step - loss: 0.3528 - accuracy: 0.9688 - val_loss: 0.7923 - val_accuracy: 0.4348\n",
      "Epoch 8/30\n",
      "3/3 [==============================] - 1s 173ms/step - loss: 0.3704 - accuracy: 0.8750 - val_loss: 1.5420 - val_accuracy: 0.2609\n",
      "Epoch 9/30\n",
      "3/3 [==============================] - 1s 172ms/step - loss: 0.7110 - accuracy: 0.6042 - val_loss: 0.7761 - val_accuracy: 0.3913\n",
      "Epoch 10/30\n",
      "3/3 [==============================] - 1s 177ms/step - loss: 0.3085 - accuracy: 0.9792 - val_loss: 0.7864 - val_accuracy: 0.4783\n",
      "Epoch 11/30\n",
      "3/3 [==============================] - 1s 176ms/step - loss: 0.3153 - accuracy: 0.9375 - val_loss: 0.7647 - val_accuracy: 0.6087\n",
      "Epoch 12/30\n",
      "3/3 [==============================] - 1s 169ms/step - loss: 0.2397 - accuracy: 1.0000 - val_loss: 0.7862 - val_accuracy: 0.6087\n",
      "Epoch 13/30\n",
      "3/3 [==============================] - 1s 171ms/step - loss: 0.2302 - accuracy: 0.9688 - val_loss: 0.8138 - val_accuracy: 0.6087\n",
      "Epoch 14/30\n",
      "3/3 [==============================] - 1s 183ms/step - loss: 0.2449 - accuracy: 0.9479 - val_loss: 1.8493 - val_accuracy: 0.2609\n",
      "Epoch 15/30\n",
      "3/3 [==============================] - 1s 175ms/step - loss: 0.5039 - accuracy: 0.7188 - val_loss: 0.7621 - val_accuracy: 0.5652\n",
      "Epoch 16/30\n",
      "3/3 [==============================] - 1s 178ms/step - loss: 0.1787 - accuracy: 1.0000 - val_loss: 0.8394 - val_accuracy: 0.4783\n",
      "Epoch 17/30\n",
      "3/3 [==============================] - 1s 173ms/step - loss: 0.1502 - accuracy: 1.0000 - val_loss: 0.8484 - val_accuracy: 0.5652\n",
      "Epoch 18/30\n",
      "3/3 [==============================] - 1s 169ms/step - loss: 0.2225 - accuracy: 0.9062 - val_loss: 1.6265 - val_accuracy: 0.3043\n",
      "Epoch 19/30\n",
      "3/3 [==============================] - 1s 181ms/step - loss: 0.3556 - accuracy: 0.8333 - val_loss: 0.7662 - val_accuracy: 0.6087\n",
      "Epoch 20/30\n",
      "3/3 [==============================] - 1s 168ms/step - loss: 0.1310 - accuracy: 1.0000 - val_loss: 0.8183 - val_accuracy: 0.6087\n",
      "Epoch 21/30\n",
      "3/3 [==============================] - 1s 174ms/step - loss: 0.1103 - accuracy: 1.0000 - val_loss: 0.9154 - val_accuracy: 0.3478\n",
      "Epoch 22/30\n",
      "3/3 [==============================] - 1s 169ms/step - loss: 0.1111 - accuracy: 1.0000 - val_loss: 0.8688 - val_accuracy: 0.6522\n",
      "Epoch 23/30\n",
      "3/3 [==============================] - 1s 178ms/step - loss: 0.1970 - accuracy: 0.9792 - val_loss: 0.8584 - val_accuracy: 0.4348\n",
      "Epoch 24/30\n",
      "3/3 [==============================] - 1s 181ms/step - loss: 0.0897 - accuracy: 1.0000 - val_loss: 0.8997 - val_accuracy: 0.5652\n",
      "Epoch 25/30\n",
      "3/3 [==============================] - 1s 178ms/step - loss: 0.0792 - accuracy: 1.0000 - val_loss: 1.0103 - val_accuracy: 0.3913\n",
      "Epoch 26/30\n",
      "3/3 [==============================] - 1s 177ms/step - loss: 0.0636 - accuracy: 1.0000 - val_loss: 0.9874 - val_accuracy: 0.4783\n",
      "Epoch 27/30\n",
      "3/3 [==============================] - 1s 174ms/step - loss: 0.0550 - accuracy: 1.0000 - val_loss: 0.9028 - val_accuracy: 0.6087\n",
      "Epoch 28/30\n",
      "3/3 [==============================] - 1s 190ms/step - loss: 0.0523 - accuracy: 1.0000 - val_loss: 1.2681 - val_accuracy: 0.2609\n",
      "Epoch 29/30\n",
      "3/3 [==============================] - 1s 175ms/step - loss: 0.1581 - accuracy: 0.9583 - val_loss: 0.9136 - val_accuracy: 0.6957\n",
      "Epoch 30/30\n",
      "3/3 [==============================] - 1s 169ms/step - loss: 0.1069 - accuracy: 0.9792 - val_loss: 0.9381 - val_accuracy: 0.5652\n"
     ]
    },
    {
     "data": {
      "text/plain": [
       "<keras.src.callbacks.History at 0x7f490d3f6810>"
      ]
     },
     "execution_count": 33,
     "metadata": {},
     "output_type": "execute_result"
    }
   ],
   "source": [
    "model.fit(\n",
    "  train,\n",
    "  validation_data=val,\n",
    "  epochs=30\n",
    ")"
   ]
  },
  {
   "cell_type": "code",
   "execution_count": 29,
   "metadata": {},
   "outputs": [
    {
     "ename": "IndexError",
     "evalue": "tuple index out of range",
     "output_type": "error",
     "traceback": [
      "\u001b[0;31m---------------------------------------------------------------------------\u001b[0m",
      "\u001b[0;31mIndexError\u001b[0m                                Traceback (most recent call last)",
      "\u001b[1;32m/home/steve/learning/Dcgan_in_tf/perfetch_pip.ipynb Cell 9\u001b[0m line \u001b[0;36m2\n\u001b[1;32m      <a href='vscode-notebook-cell://wsl%2Bubuntu-22.04/home/steve/learning/Dcgan_in_tf/perfetch_pip.ipynb#X11sdnNjb2RlLXJlbW90ZQ%3D%3D?line=0'>1</a>\u001b[0m \u001b[39mfor\u001b[39;00m el \u001b[39min\u001b[39;00m train:\n\u001b[0;32m----> <a href='vscode-notebook-cell://wsl%2Bubuntu-22.04/home/steve/learning/Dcgan_in_tf/perfetch_pip.ipynb#X11sdnNjb2RlLXJlbW90ZQ%3D%3D?line=1'>2</a>\u001b[0m     \u001b[39mprint\u001b[39m(el[\u001b[39m2\u001b[39m])\n\u001b[1;32m      <a href='vscode-notebook-cell://wsl%2Bubuntu-22.04/home/steve/learning/Dcgan_in_tf/perfetch_pip.ipynb#X11sdnNjb2RlLXJlbW90ZQ%3D%3D?line=2'>3</a>\u001b[0m     \u001b[39mbreak\u001b[39;00m\n",
      "\u001b[0;31mIndexError\u001b[0m: tuple index out of range"
     ]
    }
   ],
   "source": []
  },
  {
   "cell_type": "code",
   "execution_count": null,
   "metadata": {},
   "outputs": [],
   "source": []
  }
 ],
 "metadata": {
  "kernelspec": {
   "display_name": "base",
   "language": "python",
   "name": "python3"
  },
  "language_info": {
   "codemirror_mode": {
    "name": "ipython",
    "version": 3
   },
   "file_extension": ".py",
   "mimetype": "text/x-python",
   "name": "python",
   "nbconvert_exporter": "python",
   "pygments_lexer": "ipython3",
   "version": "3.11.3"
  },
  "orig_nbformat": 4
 },
 "nbformat": 4,
 "nbformat_minor": 2
}
