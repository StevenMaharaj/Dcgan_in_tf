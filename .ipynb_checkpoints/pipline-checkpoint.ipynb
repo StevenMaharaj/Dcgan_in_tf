{
 "cells": [
  {
   "cell_type": "code",
   "execution_count": 8,
   "id": "be4dfcb8-34c2-4c3c-9791-097f436a08f3",
   "metadata": {
    "tags": []
   },
   "outputs": [],
   "source": [
    "import tensorflow as tf\n",
    "import os"
   ]
  },
  {
   "cell_type": "code",
   "execution_count": 3,
   "id": "2dbdfbc8-e6d5-4b23-9dfa-8d73b0ba459f",
   "metadata": {
    "tags": []
   },
   "outputs": [],
   "source": [
    "daily_sales_number = [21,22,-108,31,-1,32,24,31]"
   ]
  },
  {
   "cell_type": "code",
   "execution_count": 5,
   "id": "c9536ad8-eab5-47d4-bc37-f51463f6c77d",
   "metadata": {
    "tags": []
   },
   "outputs": [
    {
     "data": {
      "text/plain": [
       "<_TensorSliceDataset element_spec=TensorSpec(shape=(), dtype=tf.int32, name=None)>"
      ]
     },
     "execution_count": 5,
     "metadata": {},
     "output_type": "execute_result"
    }
   ],
   "source": [
    "ds = tf.data.Dataset.from_tensor_slices(daily_sales_number)\n",
    "ds"
   ]
  },
  {
   "cell_type": "code",
   "execution_count": 6,
   "id": "a09d3a1c-c709-41f9-bc2b-86923ca93b7a",
   "metadata": {
    "tags": []
   },
   "outputs": [
    {
     "name": "stdout",
     "output_type": "stream",
     "text": [
      "tf.Tensor(21, shape=(), dtype=int32)\n",
      "tf.Tensor(22, shape=(), dtype=int32)\n",
      "tf.Tensor(-108, shape=(), dtype=int32)\n",
      "tf.Tensor(31, shape=(), dtype=int32)\n",
      "tf.Tensor(-1, shape=(), dtype=int32)\n",
      "tf.Tensor(32, shape=(), dtype=int32)\n",
      "tf.Tensor(24, shape=(), dtype=int32)\n",
      "tf.Tensor(31, shape=(), dtype=int32)\n"
     ]
    }
   ],
   "source": [
    "for sales in ds:\n",
    "    print(sales)"
   ]
  },
  {
   "cell_type": "code",
   "execution_count": 7,
   "id": "564667fa-1109-4559-823b-9144121b769b",
   "metadata": {
    "tags": []
   },
   "outputs": [
    {
     "name": "stdout",
     "output_type": "stream",
     "text": [
      "21\n",
      "22\n",
      "-108\n"
     ]
    }
   ],
   "source": [
    "for sales in ds.take(3):\n",
    "    print(sales.numpy())"
   ]
  },
  {
   "cell_type": "code",
   "execution_count": 10,
   "id": "ebaeb9be-f7fb-47e1-983f-4e0066cdccb2",
   "metadata": {
    "tags": []
   },
   "outputs": [
    {
     "name": "stdout",
     "output_type": "stream",
     "text": [
      "21\n",
      "22\n",
      "31\n",
      "32\n",
      "24\n",
      "31\n"
     ]
    }
   ],
   "source": [
    "for el in ds.filter(lambda x: x> 0):\n",
    "    print(el.numpy())"
   ]
  },
  {
   "cell_type": "code",
   "execution_count": 11,
   "id": "0c916e7c-e8d4-4ab1-beea-6da546ecb52b",
   "metadata": {
    "tags": []
   },
   "outputs": [
    {
     "name": "stdout",
     "output_type": "stream",
     "text": [
      "31\n",
      "21\n",
      "32\n",
      "24\n",
      "31\n",
      "22\n"
     ]
    }
   ],
   "source": [
    "for el in ds.filter(lambda x: x> 0).shuffle(3):\n",
    "    print(el.numpy())"
   ]
  },
  {
   "cell_type": "code",
   "execution_count": 12,
   "id": "5d438f4e-3472-442f-8c2c-7e0fb155dc48",
   "metadata": {
    "tags": []
   },
   "outputs": [
    {
     "name": "stdout",
     "output_type": "stream",
     "text": [
      "[21 22]\n",
      "[31 32]\n",
      "[24 31]\n"
     ]
    }
   ],
   "source": [
    "for el in ds.filter(lambda x: x> 0).batch(2):\n",
    "    print(el.numpy())"
   ]
  },
  {
   "cell_type": "code",
   "execution_count": null,
   "id": "778a20ed-cef8-453b-93eb-49769443f946",
   "metadata": {},
   "outputs": [],
   "source": []
  },
  {
   "cell_type": "code",
   "execution_count": null,
   "id": "dd18d607-1785-473b-9464-50e7a64955e0",
   "metadata": {},
   "outputs": [],
   "source": []
  },
  {
   "cell_type": "code",
   "execution_count": null,
   "id": "df5fd311-200f-4da0-8427-ec0728a45f43",
   "metadata": {},
   "outputs": [],
   "source": []
  },
  {
   "cell_type": "code",
   "execution_count": 16,
   "id": "f23fc2bf-46b3-4731-bdab-cf6e44131c7a",
   "metadata": {
    "tags": []
   },
   "outputs": [
    {
     "name": "stdout",
     "output_type": "stream",
     "text": [
      "b\"/mnt/c/Users/steven.maharaj/Pictures/Your Favorite Colombiana with fake tits - Caroamado's Albums/Mia Malkova.jpg\"\n",
      "b\"/mnt/c/Users/steven.maharaj/Pictures/Your Favorite Colombiana with fake tits - Caroamado's Albums/(m=lciqgiditqgYaYWgaaaaGb_c)(mh=t4fX5bhh-SML2mmt)thumb_899782.jpg\"\n",
      "b\"/mnt/c/Users/steven.maharaj/Pictures/Your Favorite Colombiana with fake tits - Caroamado's Albums/My roommate couldn't resist my cock any longer.jpg\"\n"
     ]
    }
   ],
   "source": [
    "f = \"/mnt/c/Users/steven.maharaj/Pictures\"\n",
    "path = os.path.join(f,\"Your Favorite Colombiana with fake tits - Caroamado's Albums\")\n",
    "ds = tf.data.Dataset.list_files(path+ '/*')\n",
    "for file in ds.take(3):\n",
    "    print(file.numpy())"
   ]
  },
  {
   "cell_type": "code",
   "execution_count": 19,
   "id": "47b07a76-3409-49c9-baea-0c4d5f7e5452",
   "metadata": {
    "tags": []
   },
   "outputs": [
    {
     "data": {
      "text/plain": [
       "32"
      ]
     },
     "execution_count": 19,
     "metadata": {},
     "output_type": "execute_result"
    }
   ],
   "source": [
    "n = len(ds)\n",
    "n"
   ]
  },
  {
   "cell_type": "code",
   "execution_count": 20,
   "id": "981bcac1-12a1-4057-8371-2be283c934ef",
   "metadata": {
    "tags": []
   },
   "outputs": [],
   "source": [
    "n_train = int(0.8*n)\n",
    "n_test = 1-n_train"
   ]
  },
  {
   "cell_type": "code",
   "execution_count": null,
   "id": "a0470a77-36e6-4db4-a069-2da5f94342fd",
   "metadata": {},
   "outputs": [],
   "source": [
    "train_ds = ds.take(n_train)"
   ]
  }
 ],
 "metadata": {
  "kernelspec": {
   "display_name": "Python 3 (ipykernel)",
   "language": "python",
   "name": "python3"
  },
  "language_info": {
   "codemirror_mode": {
    "name": "ipython",
    "version": 3
   },
   "file_extension": ".py",
   "mimetype": "text/x-python",
   "name": "python",
   "nbconvert_exporter": "python",
   "pygments_lexer": "ipython3",
   "version": "3.11.3"
  }
 },
 "nbformat": 4,
 "nbformat_minor": 5
}
